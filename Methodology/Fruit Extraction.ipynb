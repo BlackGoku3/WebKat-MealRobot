{
 "cells": [
  {
   "cell_type": "markdown",
   "id": "a15cc8d3",
   "metadata": {},
   "source": [
    "# Extracting Fruits from the FoodOn using SPARQL\n",
    "\n",
    "With this notebook, we query the [FoodOn](https://foodon.org/) for all available fruit objects using a SPARQL query. Since there is no online SPARQL endpoint available, we query the a local .owl file.\n",
    "The query we employ with additional comments and explanations can be found [in our repository](https://github.com/Food-Ninja/FoodCutting/blob/main/Methodology/all_fruits.sparql). \n",
    "To use SPARQL in Python, we employ [rdflib](https://rdflib.readthedocs.io/en/stable/). \n",
    "The result is a pandas dataframe that consist of three columns: The (cleaned up) label of the fruit in the ontology (e.g. apple), the distinct IRI identifying this fruit and a comment that includes a brief description of the fruit."
   ]
  },
  {
   "cell_type": "code",
   "execution_count": null,
   "id": "bcb034ce",
   "metadata": {},
   "outputs": [],
   "source": [
    "# imports\n",
    "from rdflib import Graph, Literal, Namespace, RDF, RDFS, URIRef\n",
    "from rdflib.plugins.sparql import prepareQuery\n",
    "import pandas as pd"
   ]
  },
  {
   "cell_type": "code",
   "execution_count": null,
   "id": "df366340",
   "metadata": {},
   "outputs": [],
   "source": [
    "# define ontology location\n",
    "loc = \"your/path/here\""
   ]
  },
  {
   "cell_type": "code",
   "execution_count": null,
   "id": "de491ac4",
   "metadata": {},
   "outputs": [],
   "source": [
    "# load the (local) ontology and set the namespace prefixes\n",
    "g = Graph()\n",
    "g.parse(loc)\n",
    "\n",
    "FOOD = Namespace(\"http://purl.obolibrary.org/obo/\")\n",
    "RDFS = Namespace(\"http://www.w3.org/2000/01/rdf-schema#\")"
   ]
  },
  {
   "cell_type": "code",
   "execution_count": null,
   "id": "78140542",
   "metadata": {},
   "outputs": [],
   "source": [
    "# get the fruit data through the SPARQL query \n",
    "query = prepareQuery(\n",
    "    \"\"\"\n",
    "    SELECT ?label (SAMPLE(?fruit_id) AS ?rndm_id) (SAMPLE(?def) AS ?rndm_def)\n",
    "    WHERE {\n",
    "        ?fruit_id rdfs:label ?base_label.\n",
    "        ?fruit_id rdfs:subClassOf* food:PO_0009001.\n",
    "        OPTIONAL { ?fruit_id food:IAO_0000115 ?def. }\n",
    "        \n",
    "        BIND (LCASE(STR(?base_label)) AS ?str_label).\n",
    "        BIND (STRBEFORE(?str_label, \"(\") AS ?label).\n",
    "        FILTER CONTAINS(?str_label, \"whole\").\n",
    "        FILTER NOT EXISTS { ?fruit_id rdfs:subClassOf* food:PO_0030104. }\n",
    "    }\n",
    "    GROUP BY ?label\n",
    "    ORDER BY ?label\n",
    "    \"\"\",\n",
    "    initNs={\"food\": FOOD, \"rdfs\": RDFS}\n",
    ")\n",
    "\n",
    "fruits = g.query(query)"
   ]
  },
  {
   "cell_type": "code",
   "execution_count": null,
   "id": "0601a0ba",
   "metadata": {},
   "outputs": [],
   "source": [
    "# get the vegetable data through the SPARQL query \n",
    "query = prepareQuery(\n",
    "    \"\"\"\n",
    "    SELECT ?label (SAMPLE(?veg_id) AS ?rndm_id) (SAMPLE(?def) AS ?rndm_def)\n",
    "    WHERE {\n",
    "        ?veg_id rdfs:label ?base_label.\n",
    "        ?veg_id rdfs:subClassOf* food:FOODON_03302008.\n",
    "        OPTIONAL { ?veg_id food:IAO_0000115 ?def. }\n",
    "\n",
    "        BIND (LCASE(STR(?base_label)) AS ?str_label).\n",
    "        BIND (STRBEFORE(?str_label, \"(\") AS ?label).\n",
    "        FILTER NOT EXISTS { ?veg_id rdfs:subClassOf* food:FOODON_03302007. }\n",
    "    }\n",
    "    GROUP BY ?label\n",
    "    ORDER BY ?label\n",
    "    \"\"\",\n",
    "    initNs={\"food\": FOOD, \"rdfs\": RDFS}\n",
    ")\n",
    "\n",
    "veggies = g.query(query)"
   ]
  },
  {
   "cell_type": "code",
   "execution_count": null,
   "id": "bc36aba4",
   "metadata": {},
   "outputs": [],
   "source": [
    "# convert query results in a panda dataframe for further analysis\n",
    "fruit_list = [(str(row[0]), str(row[1]), str(row[2])) for row in fruits]\n",
    "veggie_list = [(str(row[0]), str(row[1]), str(row[2])) for row in veggies]\n",
    "fruit_df = pd.DataFrame(fruit_list, columns=[\"label\", \"rndm_id\", \"rndm_def\"])\n",
    "veggie_df = pd.DataFrame(veggie_list, columns=[\"label\", \"rndm_id\", \"rndm_def\"])\n",
    "frames = [fruit_df, veggie_df]\n",
    "result = pd.concat(frames)\n",
    "display(result)"
   ]
  },
  {
   "cell_type": "code",
   "execution_count": null,
   "id": "7890a4a1",
   "metadata": {},
   "outputs": [],
   "source": []
  }
 ],
 "metadata": {
  "kernelspec": {
   "display_name": "Python 3 (ipykernel)",
   "language": "python",
   "name": "python3"
  },
  "language_info": {
   "codemirror_mode": {
    "name": "ipython",
    "version": 3
   },
   "file_extension": ".py",
   "mimetype": "text/x-python",
   "name": "python",
   "nbconvert_exporter": "python",
   "pygments_lexer": "ipython3",
   "version": "3.8.10"
  }
 },
 "nbformat": 4,
 "nbformat_minor": 5
}

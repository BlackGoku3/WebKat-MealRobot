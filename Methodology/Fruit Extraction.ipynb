{
 "cells": [
  {
   "cell_type": "markdown",
   "id": "a15cc8d3",
   "metadata": {},
   "source": [
    "# Extracting Fruits from the FoodOn using SPARQL\n",
    "\n",
    "With this notebook, we query the [FoodOn](https://foodon.org/) for all available fruit objects using a SPARQL query. Since there is no online SPARQL endpoint available, we query the a local .owl file.\n",
    "The query we employ with additional comments and explanations can be found [in our repository](https://github.com/Food-Ninja/FoodCutting/blob/main/Methodology/all_fruits.sparql). \n",
    "To use SPARQL in Python, we employ [rdflib](https://rdflib.readthedocs.io/en/stable/). \n",
    "The result is a pandas dataframe that consist of three columns: The (cleaned up) label of the fruit in the ontology (e.g. apple), the distinct IRI identifying this fruit and a comment that includes a brief description of the fruit."
   ]
  },
  {
   "cell_type": "code",
   "execution_count": null,
   "id": "bcb034ce",
   "metadata": {},
   "outputs": [],
   "source": [
    "# imports\n",
    "from rdflib import Graph, Literal, Namespace, RDF, RDFS, URIRef\n",
    "from rdflib.plugins.sparql import prepareQuery\n",
    "import pandas as pd"
   ]
  },
  {
   "cell_type": "code",
   "execution_count": null,
   "id": "df366340",
   "metadata": {},
   "outputs": [],
   "source": [
    "# define ontology location\n",
    "loc = \"your/path/here\""
   ]
  },
  {
   "cell_type": "code",
   "execution_count": null,
   "id": "78140542",
   "metadata": {},
   "outputs": [],
   "source": [
    "# load the (local) ontology and get the data through the SPARQL query \n",
    "g = Graph()\n",
    "g.parse(loc)\n",
    "\n",
    "# namespace prefixes\n",
    "FOOD = Namespace(\"http://purl.obolibrary.org/obo/\")\n",
    "RDFS = Namespace(\"http://www.w3.org/2000/01/rdf-schema#\")\n",
    "\n",
    "# SPARQL query\n",
    "query = prepareQuery(\n",
    "    \"\"\"\n",
    "    SELECT ?fruit_label (SAMPLE(?fruit_id) AS ?rndm_fruit_id) (SAMPLE(?def) AS ?rndm_def)\n",
    "    WHERE {\n",
    "        ?fruit_id rdfs:label ?label.\n",
    "        ?fruit_id rdfs:subClassOf* food:PO_0009001.\n",
    "        OPTIONAL { ?fruit_id food:IAO_0000115 ?def. }\n",
    "        \n",
    "        BIND (LCASE(STR(?label)) AS ?str_label).\n",
    "        BIND (STRBEFORE(?str_label, \"(\") AS ?fruit_label).\n",
    "        FILTER CONTAINS(?str_label, \"whole\").\n",
    "        FILTER NOT EXISTS { ?fruit_id rdfs:subClassOf* food:PO_0030104. }\n",
    "    }\n",
    "    GROUP BY ?fruit_label\n",
    "    ORDER BY ?fruit_label\n",
    "    \"\"\",\n",
    "    initNs={\"food\": FOOD, \"rdfs\": RDFS}\n",
    ")\n",
    "\n",
    "results = g.query(query)"
   ]
  },
  {
   "cell_type": "code",
   "execution_count": null,
   "id": "bc36aba4",
   "metadata": {},
   "outputs": [],
   "source": [
    "# convert query results in a panda dataframe for further analysis\n",
    "results_list = [(str(row[0]), str(row[1]), str(row[2])) for row in results]\n",
    "df = pd.DataFrame(results_list, columns=[\"fruit_label\", \"fruit_id\", \"fruit_comment\"])\n",
    "print(df)"
   ]
  },
  {
   "cell_type": "code",
   "execution_count": null,
   "id": "7890a4a1",
   "metadata": {},
   "outputs": [],
   "source": []
  }
 ],
 "metadata": {
  "kernelspec": {
   "display_name": "Python 3 (ipykernel)",
   "language": "python",
   "name": "python3"
  },
  "language_info": {
   "codemirror_mode": {
    "name": "ipython",
    "version": 3
   },
   "file_extension": ".py",
   "mimetype": "text/x-python",
   "name": "python",
   "nbconvert_exporter": "python",
   "pygments_lexer": "ipython3",
   "version": "3.8.10"
  }
 },
 "nbformat": 4,
 "nbformat_minor": 5
}

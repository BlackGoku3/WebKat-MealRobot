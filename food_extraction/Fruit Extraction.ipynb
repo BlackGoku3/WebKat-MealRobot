{
 "cells": [
  {
   "cell_type": "markdown",
   "id": "a15cc8d3",
   "metadata": {},
   "source": [
    "# Extracting Fruits and Vegetables from the FoodOn using SPARQL\n",
    "\n",
    "With this notebook, we query the [FoodOn](https://foodon.org/) for all available fruit and vegetable objects using two SPARQL queries. Since there is no online SPARQL endpoint available, we query the a local .owl file.\n",
    "The queries we employ with additional comments and explanations can be found [in our repository](https://github.com/Food-Ninja/WebKat-MealRobot/blob/main/Methodology). \n",
    "To use SPARQL in Python, we employ [rdflib](https://rdflib.readthedocs.io/en/stable/). \n",
    "The result is a pandas dataframe that consist of three columns: The (cleaned up) label of the fruit/vegetable in the ontology (e.g. apple, asparagus), the distinct IRI identifying this fruit/vegetable and a comment that includes a brief description of the fruit/vegetable."
   ]
  },
  {
   "cell_type": "code",
   "execution_count": null,
   "id": "bcb034ce",
   "metadata": {},
   "outputs": [],
   "source": [
    "# imports\n",
    "from rdflib import Graph, Literal, Namespace, RDF, RDFS, URIRef\n",
    "from rdflib.plugins.sparql import prepareQuery\n",
    "import pandas as pd"
   ]
  },
  {
   "cell_type": "code",
   "execution_count": null,
   "id": "df366340",
   "metadata": {},
   "outputs": [],
   "source": [
    "# define file locations\n",
    "foodon_loc = \"your/path/here/foodon.owl\"\n",
    "foodcut_loc = \"../food_cutting.owl\"\n",
    "occurrences = \"./occurrence_data.csv\""
   ]
  },
  {
   "cell_type": "code",
   "execution_count": null,
   "id": "7fed4e33",
   "metadata": {},
   "outputs": [],
   "source": [
    "# load the (local) ontology and set the namespace prefixes\n",
    "g = Graph()\n",
    "g.parse(foodon_loc)\n",
    "\n",
    "FOOD = Namespace(\"http://purl.obolibrary.org/obo/\")\n",
    "RDFS = Namespace(\"http://www.w3.org/2000/01/rdf-schema#\")"
   ]
  },
  {
   "cell_type": "code",
   "execution_count": null,
   "id": "78140542",
   "metadata": {},
   "outputs": [],
   "source": [
    "# get the fruit data through the SPARQL query \n",
    "query = prepareQuery(   \n",
    "    \"\"\"\n",
    "    SELECT ?fruit_label (SAMPLE(?fruit_id) AS ?rndm_fruit_id) (SAMPLE(?def) AS ?rndm_def)\n",
    "    WHERE {\n",
    "        ?fruit_id rdfs:label ?label.\n",
    "        ?fruit_id rdfs:subClassOf+ food:PO_0009001.\n",
    "        OPTIONAL { ?fruit_id food:IAO_0000115 ?def. }\n",
    "\n",
    "        BIND (LCASE(STR(?label)) AS ?str_label).\n",
    "        BIND (STRBEFORE(?str_label, \"(\") AS ?fruit_label).\n",
    "        FILTER CONTAINS(?str_label, \"whole\").\n",
    "        FILTER NOT EXISTS { ?fruit_id rdfs:subClassOf* food:PO_0030104. }\n",
    "        FILTER (?fruit_id != food:FOODON_03304644).\n",
    "    }\n",
    "    GROUP BY ?fruit_label\n",
    "    ORDER BY ?fruit_label\n",
    "    \"\"\",\n",
    "    initNs={\"food\": FOOD, \"rdfs\": RDFS}\n",
    ")\n",
    "\n",
    "fruits = g.query(query)"
   ]
  },
  {
   "cell_type": "code",
   "execution_count": null,
   "id": "3110e85a",
   "metadata": {},
   "outputs": [],
   "source": [
    "# get the vegetable data through the SPARQL query \n",
    "query = prepareQuery(\n",
    "    \"\"\"\n",
    "    SELECT ?veg_label (SAMPLE(?veg_id) AS ?rndm_veg_id) (SAMPLE(?def) AS ?rndm_def)\n",
    "    WHERE {\n",
    "        ?veg_id rdfs:label ?label.\n",
    "        ?veg_id rdfs:subClassOf+ food:FOODON_03302008.\n",
    "        OPTIONAL { ?veg_id food:IAO_0000115 ?def. }\n",
    "\n",
    "        BIND (LCASE(STR(?label)) AS ?str_label).\n",
    "        BIND (STRBEFORE(?str_label, \"(\") AS ?veg_label).\n",
    "        FILTER NOT EXISTS { ?veg_id rdfs:subClassOf* food:FOODON_03302007. }\n",
    "    }\n",
    "    GROUP BY ?veg_label\n",
    "    ORDER BY ?veg_label\n",
    "    \"\"\",\n",
    "    initNs={\"food\": FOOD, \"rdfs\": RDFS}\n",
    ")\n",
    "\n",
    "veggies = g.query(query)"
   ]
  },
  {
   "cell_type": "code",
   "execution_count": null,
   "id": "bc36aba4",
   "metadata": {},
   "outputs": [],
   "source": [
    "# convert query results into panda dataframes for further analysis\n",
    "fruit_list = [(str(row[0]), str(row[1]), str(row[2])) for row in fruits]\n",
    "veggie_list = [(str(row[0]), str(row[1]), str(row[2])) for row in veggies]\n",
    "\n",
    "fruit_df = pd.DataFrame(fruit_list, columns=[\"fruit_label\", \"rndm_fruit_id\", \"rndm_def\"])\n",
    "veggie_df = pd.DataFrame(veggie_list, columns=[\"veg_label\", \"rndm_veg_id\", \"rndm_def\"])\n",
    "\n",
    "fruit_df.to_csv('fruits_raw.csv', sep=\",\")\n",
    "veggie_df.to_csv('veggies_raw.csv', sep=\",\")"
   ]
  },
  {
   "cell_type": "code",
   "execution_count": null,
   "id": "c6013345",
   "metadata": {},
   "outputs": [],
   "source": [
    "# filter queried results using the occurrence data from WikiHow and Recipe1M+\n",
    "oc_dat = pd.read_csv(occurrences)\n",
    "oc_dat = oc_dat.astype({'Recipes-Title':'int','Recipes-Title [%]':'float', 'Recipes-Steps':'int','Recipes-Steps [%]':'float',\n",
    "                'WikiHow-Title':'int','WikiHow-Title [%]':'float', 'WikiHow-TitleDescription':'int','WikiHow-TitleDescription [%]':'float',\n",
    "                'WikiHow-Method':'int','WikiHow-Method [%]':'float', 'WikiHow-StepHeadline':'int','WikiHow-StepHeadline [%]':'float',\n",
    "                'WikiHow-StepDescription':'int','WikiHow-StepDescription [%]':'float'})\n",
    "\n",
    "# remove all items with too few occurrences in any column (less than 1%)\n",
    "thresh = 0.01\n",
    "most_used = oc_dat[(oc_dat['Recipes-Title [%]'] >= thresh) | (oc_dat['Recipes-Steps [%]'] >= thresh) | (oc_dat['WikiHow-Title [%]'] >= thresh) | \n",
    "                  (oc_dat['WikiHow-TitleDescription [%]'] >= thresh) | (oc_dat['WikiHow-Method [%]'] >= thresh) | (oc_dat['WikiHow-StepHeadline [%]'] >= thresh) |\n",
    "                  (oc_dat['WikiHow-StepDescription [%]'] >= thresh)]"
   ]
  },
  {
   "cell_type": "code",
   "execution_count": null,
   "id": "7890a4a1",
   "metadata": {},
   "outputs": [],
   "source": [
    "# add results to ontology\n",
    "cut = Graph()\n",
    "cut.parse(foodcut_loc)\n",
    "\n",
    "CUT = Namespace(\"http://www.ease-crc.org/ont/food_cutting/\")\n",
    "\n",
    "super_fruit = URIRef('http://purl.obolibrary.org/obo/PO_0009001')\n",
    "super_veggie = URIRef('http://www.ease-crc.org/ont/food_cutting#vegetable')\n",
    "\n",
    "for idx, row in most_used.iterrows():\n",
    "    item = URIRef(row['IRI'])\n",
    "    desc = ''\n",
    "    if row['Type'] == 'Fruit':\n",
    "        cut.add((item, RDFS.subClassOf, super_fruit))\n",
    "        desc = fruit_df.loc[fruit_df['rndm_fruit_id'] == row['IRI'], 'rndm_def'].values[0]\n",
    "    if row['Type'] == 'Vegetable':\n",
    "        cut.add((item, RDFS.subClassOf, super_veggie))        \n",
    "        desc = veggie_df.loc[veggie_df['rndm_veg_id'] == row['IRI'], 'rndm_def'].values[0]\n",
    "    cut.add((item, RDFS.label, Literal(row['Name'])))\n",
    "    cut.add((item, RDFS.comment, Literal(desc)))\n",
    "    \n",
    "cut.serialize(destination=foodcut_loc)"
   ]
  },
  {
   "cell_type": "code",
   "execution_count": null,
   "id": "e0e58d65",
   "metadata": {},
   "outputs": [],
   "source": []
  }
 ],
 "metadata": {
  "kernelspec": {
   "display_name": "Python 3 (ipykernel)",
   "language": "python",
   "name": "python3"
  },
  "language_info": {
   "codemirror_mode": {
    "name": "ipython",
    "version": 3
   },
   "file_extension": ".py",
   "mimetype": "text/x-python",
   "name": "python",
   "nbconvert_exporter": "python",
   "pygments_lexer": "ipython3",
   "version": "3.8.10"
  }
 },
 "nbformat": 4,
 "nbformat_minor": 5
}

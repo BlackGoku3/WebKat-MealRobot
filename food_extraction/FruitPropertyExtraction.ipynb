{
 "cells": [
  {
   "cell_type": "markdown",
   "id": "b849976a",
   "metadata": {},
   "source": [
    "# Trying different ways of extracting food parts, their edibility and their removability"
   ]
  },
  {
   "cell_type": "code",
   "execution_count": null,
   "id": "42a1f4cf",
   "metadata": {},
   "outputs": [],
   "source": [
    "# imports\n",
    "import torch\n",
    "import torchtext\n",
    "import gensim\n",
    "import openai\n",
    "import json\n",
    "import os"
   ]
  },
  {
   "cell_type": "code",
   "execution_count": null,
   "id": "8af9c830",
   "metadata": {},
   "outputs": [],
   "source": [
    "# food items, possible parts and their connection\n",
    "parts = ['core', 'shell', 'peel', 'stem']\n",
    "foods = ['bread', 'citron', 'kumquat', 'cucumber', 'pepper', 'olive', 'lemon', 'tomato', 'orange', 'lime', 'apple', 'bean', 'coconut', 'banana', 'almond', 'pineapple', 'pumpkin', 'cherry', 'strawberry', 'squash']\n",
    "food_parts = {\n",
    "    'almond': ['shell'],\n",
    "    'apple': ['core', 'peel'],\n",
    "    'banana': ['peel'],\n",
    "    'cherry': ['core'],\n",
    "    'citron': ['peel'],\n",
    "    'coconut': ['shell'],\n",
    "    'cucumber': ['peel', 'stem'],\n",
    "    'kumquat': ['peel'],\n",
    "    'lemon': ['peel'],\n",
    "    'lime': ['peel'],\n",
    "    'olive': ['core'],\n",
    "    'orange': ['peel'],\n",
    "    'pepper': ['stem'],\n",
    "    'pineapple': ['core', 'peel'],\n",
    "    'pumpkin': ['core', 'peel'],\n",
    "    'squash': ['core', 'peel'],\n",
    "    'strawberry': ['stem'],\n",
    "    'tomato': ['peel', 'stem']\n",
    "}\n",
    "foods.sort()"
   ]
  },
  {
   "cell_type": "code",
   "execution_count": null,
   "id": "86204146",
   "metadata": {},
   "outputs": [],
   "source": [
    "#model = \"gpt-3.5-turbo-0613\"\n",
    "model = \"gpt-4-0613\"\n",
    "cred_path = \"your/path/here\""
   ]
  },
  {
   "cell_type": "markdown",
   "id": "2b822bce",
   "metadata": {},
   "source": [
    "## Food Part Extraction using LLMs (ChatGPT & GPT-4)"
   ]
  },
  {
   "cell_type": "code",
   "execution_count": null,
   "id": "ded1d965",
   "metadata": {},
   "outputs": [],
   "source": [
    "json_text = json.load(open(os.path.join(cred_path)))\n",
    "openai.organization = json_text[\"organization\"]\n",
    "openai.api_key = json_text[\"api_key\"]\n",
    "print(model)\n",
    "\n",
    "for f in foods:\n",
    "    response = openai.ChatCompletion.create(model=model,\n",
    "                                            messages=[\n",
    "                                                {\"role\": \"user\", \"content\": f\"Which of the following four food parts do you think are part of a {f}: A core, a shell, a peel and a stem\"},\n",
    "                                                {\"role\": \"system\", \"content\": \"Can you please answer only with the existing parts and without any additional text.\"}],\n",
    "                                            temperature=0)\n",
    "    gen_parts = response['choices'][0]['message']['content']\n",
    "    print(f\"{f}: {gen_parts}\")"
   ]
  },
  {
   "cell_type": "markdown",
   "id": "e1205e4e",
   "metadata": {},
   "source": [
    "## Edibility and Removal Tool Extraction using LLMs (ChatGPT & GPT-4)"
   ]
  },
  {
   "cell_type": "code",
   "execution_count": null,
   "id": "626b477d",
   "metadata": {},
   "outputs": [],
   "source": [
    "# Part Edibility\n",
    "json_text = json.load(open(os.path.join(cred_path)))\n",
    "openai.organization = json_text[\"organization\"]\n",
    "openai.api_key = json_text[\"api_key\"]\n",
    "print(model)\n",
    "\n",
    "for f in food_parts:\n",
    "    for p in food_parts[f]:\n",
    "        response = openai.ChatCompletion.create(model=model,\n",
    "                                                messages=[\n",
    "                                                    {\"role\": \"user\", \"content\": f\"What is the edibility for the {p} of a/an {f}? You can choose between three possibilies: Edible, Must Be Avoided or Should Be Avoided\"},\n",
    "                                                    {\"role\": \"system\", \"content\": \"Can you please answer only with the chosen edibility and without any additional text.\"}],\n",
    "                                                temperature=0)\n",
    "        edibility = response['choices'][0]['message']['content']\n",
    "        print(f\"{f} {p}: {edibility}\")"
   ]
  },
  {
   "cell_type": "code",
   "execution_count": null,
   "id": "80b5aecd",
   "metadata": {},
   "outputs": [],
   "source": [
    "# Tool for part removal (open question)\n",
    "json_text = json.load(open(os.path.join(cred_path)))\n",
    "openai.organization = json_text[\"organization\"]\n",
    "openai.api_key = json_text[\"api_key\"]\n",
    "print(model)\n",
    "\n",
    "for f in food_parts:\n",
    "    for p in food_parts[f]:\n",
    "        response = openai.ChatCompletion.create(model=model,\n",
    "                                                messages=[\n",
    "                                                    {\"role\": \"user\", \"content\": f\"What tool would you use to remove the {p} of a/an {f}?\"},\n",
    "                                                    {\"role\": \"system\", \"content\": \"Can you please answer only with the 1 tool you think works best and without any additional text.\"}],\n",
    "                                                temperature=0)\n",
    "        tool = response['choices'][0]['message']['content']\n",
    "        print(f\"{f} {p}: {tool}\")"
   ]
  },
  {
   "cell_type": "code",
   "execution_count": null,
   "id": "677ade6d",
   "metadata": {},
   "outputs": [],
   "source": [
    "# Tool for part removal (selection of tools provided)\n",
    "json_text = json.load(open(os.path.join(cred_path)))\n",
    "openai.organization = json_text[\"organization\"]\n",
    "openai.api_key = json_text[\"api_key\"]\n",
    "print(model)\n",
    "\n",
    "for f in food_parts:\n",
    "    for p in food_parts[f]:\n",
    "        response = openai.ChatCompletion.create(model=model,\n",
    "                                                messages=[\n",
    "                                                    {\"role\": \"user\", \"content\": f\"What tool would you use to remove the {p} of a/an {f} if you would have to choose between a knife, a nutcracker, a hand, a spoon or a peeler?\"},\n",
    "                                                    {\"role\": \"system\", \"content\": \"Can you please answer only with the 1 tool you think works best and without any additional text.\"}],\n",
    "                                                temperature=0)\n",
    "        tool = response['choices'][0]['message']['content']\n",
    "        print(f\"{f} {p}: {tool}\")"
   ]
  },
  {
   "cell_type": "markdown",
   "id": "860c983d",
   "metadata": {},
   "source": [
    "## Food Part Extraction using Embeddings (GloVe, Numberbatch & NASARI)"
   ]
  },
  {
   "cell_type": "code",
   "execution_count": null,
   "id": "15dee19d",
   "metadata": {},
   "outputs": [],
   "source": [
    "# load ConceptNet Numberbatch\n",
    "numberbatch = gensim.models.KeyedVectors.load_word2vec_format('/home/jan-philipp/Word Embeddings/numberbatch-en.txt', binary=False)"
   ]
  },
  {
   "cell_type": "code",
   "execution_count": null,
   "id": "85e43e00",
   "metadata": {},
   "outputs": [],
   "source": [
    "# load NASARI\n",
    "nasari = gensim.models.KeyedVectors.load_word2vec_format('/home/jan-philipp/Word Embeddings/NASARI_embed_english.txt', binary=False)"
   ]
  },
  {
   "cell_type": "code",
   "execution_count": null,
   "id": "defbc0c0",
   "metadata": {},
   "outputs": [],
   "source": [
    "# define function for finding the key based on the given concept name\n",
    "def find_key(concept):\n",
    "    concept_is_synset = \"bn:\" in concept\n",
    "    keys = [key for key in nasari.index_to_key if concept in key.lower()]\n",
    "    for key in keys:\n",
    "        cut = key.split('__')[1].lower()\n",
    "        if (cut == concept and not concept_is_synset) or (concept_is_synset and concept in key.lower()):\n",
    "            return key\n",
    "    return concept"
   ]
  },
  {
   "cell_type": "code",
   "execution_count": null,
   "id": "1fd9442c",
   "metadata": {},
   "outputs": [],
   "source": [
    "# cosine similarity between GloVe embeddings\n",
    "glove = torchtext.vocab.GloVe(name=\"6B\", dim=50)\n",
    "\n",
    "for f in foods:\n",
    "    for p in parts:\n",
    "        sim = torch.cosine_similarity(glove[f].unsqueeze(0), glove[p].unsqueeze(0)).item()\n",
    "        if sim >= 0.5:\n",
    "            print(f'Similarity for {p} in {f}: {sim}')"
   ]
  },
  {
   "cell_type": "code",
   "execution_count": null,
   "id": "56125c21",
   "metadata": {},
   "outputs": [],
   "source": [
    "# cosine similarity between ConceptNet Numberbatch embeddings\n",
    "for f in foods:\n",
    "    for p in parts:\n",
    "        sim = numberbatch.similarity(f, p)\n",
    "        if sim >= 0.3:\n",
    "            print(f'Similarity for {p} in {f}: {sim}')"
   ]
  },
  {
   "cell_type": "code",
   "execution_count": null,
   "id": "1c21284b",
   "metadata": {},
   "outputs": [],
   "source": [
    "# cosine similarity between NASARI embeddings\n",
    "# Sadly, the BabelNet synsets for core (bn:04772260n) does not exist in the NASARI embeddings and \n",
    "# for 'shell' we need to look for the concrete synset (bn:00071005n) instead \n",
    "parts_nasari = parts = ['bn:00071005n', 'peel_(fruit)', 'plant_stem']\n",
    "for f in foods:\n",
    "    for p in parts_nasari:\n",
    "        f_key = find_key(f)\n",
    "        p_key = find_key(p)\n",
    "        if (f_key in nasari.index_to_key) and (p_key in nasari.index_to_key):\n",
    "            sim = nasari.similarity(f_key, p_key)\n",
    "            if sim >= 0.75:\n",
    "                print(f'Similarity for {p} and {f}: {sim}')"
   ]
  },
  {
   "cell_type": "code",
   "execution_count": null,
   "id": "a11f8e8d",
   "metadata": {},
   "outputs": [],
   "source": []
  }
 ],
 "metadata": {
  "kernelspec": {
   "display_name": "Python 3 (ipykernel)",
   "language": "python",
   "name": "python3"
  },
  "language_info": {
   "codemirror_mode": {
    "name": "ipython",
    "version": 3
   },
   "file_extension": ".py",
   "mimetype": "text/x-python",
   "name": "python",
   "nbconvert_exporter": "python",
   "pygments_lexer": "ipython3",
   "version": "3.8.10"
  }
 },
 "nbformat": 4,
 "nbformat_minor": 5
}

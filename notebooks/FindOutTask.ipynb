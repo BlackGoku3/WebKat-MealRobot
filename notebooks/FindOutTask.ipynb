{
 "cells": [
  {
   "cell_type": "markdown",
   "id": "adca5bf4-2b66-4a2f-906b-e0ff0da852d2",
   "metadata": {},
   "source": [
    "# <b> Part 2. After loading a NEEM, you can analyse it for the contained parameters<b>\n",
    "# In this Notebook you will access a food cutting knowledge graph to retrieve task information\n",
    "\n",
    "The idea is that you first loaded an episodic memory/ experiment for inspection and now want to retrieve additional parameters. If you did not select an experiment, you can <b>set your parameters<b> here"
   ]
  },
  {
   "cell_type": "code",
   "execution_count": 14,
   "id": "1e185595-c0ff-4af5-b9e9-6b7b743f04bb",
   "metadata": {},
   "outputs": [
    {
     "data": {
      "application/vnd.jupyter.widget-view+json": {
       "model_id": "4d732a3b26754de789c9f91a74eb9108",
       "version_major": 2,
       "version_minor": 0
      },
      "text/plain": [
       "HBox(children=(Dropdown(description='No. of Cuts:', options=(('1', 'owl:hasValue'), ('> 1', 'owl:minQualifiedC…"
      ]
     },
     "execution_count": 14,
     "metadata": {},
     "output_type": "execute_result"
    }
   ],
   "source": [
    "import ipywidgets as widgets\n",
    "from ipywidgets import HBox\n",
    "\n",
    "# all available parameters\n",
    "cuts = [('1',\"owl:hasValue\"),\n",
    "        ('> 1', \"owl:minQualifiedCardinality\")]\n",
    "\n",
    "poses=[('center', \"cut:halving_position\"),\n",
    "        ('end', \"cut:slicing_position\")]\n",
    "\n",
    "rotations=[('<= 1', \"single\"),\n",
    "        ('> 1', \"multiple\")]\n",
    "\n",
    "cut=\"\"\n",
    "pose=\"\"\n",
    "rotation=\"\"\n",
    "\n",
    "def chooseCuts(Cut):\n",
    "    global cut\n",
    "    cut=Cut\n",
    "     \n",
    "def choosePose(Pose):\n",
    "    global pose\n",
    "    pose=Pose\n",
    "    \n",
    "def chooseRotation(Rotation):\n",
    "    global rotation\n",
    "    rotation=Rotation\n",
    "\n",
    "cut_widget = widgets.Dropdown(options=cuts, description='No. of Cuts:')\n",
    "pose_widget = widgets.Dropdown(options=poses, description='Cutting Pose:')\n",
    "rotation_widget = widgets.Dropdown(options=rotations, description='No. of Rotations:')\n",
    "\n",
    "def cutEvent(event):\n",
    "    chooseCuts(event.new)\n",
    "\n",
    "def poseEvent(event):\n",
    "    choosePose(event.new)\n",
    "\n",
    "def rotateEvent(event):\n",
    "    chooseRotation(event.new)\n",
    "    \n",
    "cut_widget.observe(cutEvent, names='value')\n",
    "pose_widget.observe(poseEvent, names='value')\n",
    "rotation_widget.observe(rotateEvent, names='value')\n",
    "\n",
    "widgets_display = HBox([cut_widget, pose_widget, rotation_widget])\n",
    "\n",
    "widgets_display\n",
    "\n",
    "# optional: set Parameters manually:\n",
    "#cuts = \"\"\n",
    "#pose = \"\"\n",
    "#rotation = \"\""
   ]
  },
  {
   "cell_type": "markdown",
   "id": "97f622e6-dfbe-4086-9fd0-cc4b1fc701e6",
   "metadata": {},
   "source": [
    "### We need to also install some libraries"
   ]
  },
  {
   "cell_type": "code",
   "execution_count": 15,
   "id": "0a53d013-cf40-4451-9f1c-6e8c197906b4",
   "metadata": {},
   "outputs": [
    {
     "name": "stdout",
     "output_type": "stream",
     "text": [
      "Requirement already satisfied: rdflib in /opt/conda/lib/python3.11/site-packages (7.0.0)\n",
      "Requirement already satisfied: isodate<0.7.0,>=0.6.0 in /opt/conda/lib/python3.11/site-packages (from rdflib) (0.6.1)\n",
      "Requirement already satisfied: pyparsing<4,>=2.1.0 in /opt/conda/lib/python3.11/site-packages (from rdflib) (3.1.1)\n",
      "Requirement already satisfied: six in /opt/conda/lib/python3.11/site-packages (from isodate<0.7.0,>=0.6.0->rdflib) (1.16.0)\n"
     ]
    }
   ],
   "source": [
    "!pip install rdflib\n",
    "# import rdflib\n",
    "from rdflib import Graph, Literal, URIRef, Namespace\n",
    "# rdflib knows about quite a few popular namespaces, like W3C ontologies, schema.org etc\n",
    "from rdflib.namespace import OWL, RDF, RDFS"
   ]
  },
  {
   "cell_type": "markdown",
   "id": "3bcf5176-9a28-4cbe-a5a2-d68ef57860b1",
   "metadata": {},
   "source": [
    "## With the given parameters, we can infer the task that was performed in the demonstration"
   ]
  },
  {
   "cell_type": "code",
   "execution_count": 27,
   "id": "252294ff-5b0d-4b81-94bf-bd46023a04db",
   "metadata": {},
   "outputs": [
    {
     "name": "stdout",
     "output_type": "stream",
     "text": [
      "http://www.ease-crc.org/ont/food_cutting#Dicing\n"
     ]
    }
   ],
   "source": [
    "g = Graph()\n",
    "\n",
    "# define prefixes to be used in the query \n",
    "SOMA = Namespace(\"http://www.ease-crc.org/ont/SOMA.owl#\")\n",
    "CUT = Namespace(\"http://www.ease-crc.org/ont/food_cutting#\")\n",
    "\n",
    "g.bind(\"owl\", OWL)\n",
    "g.bind(\"rdfs\", RDFS)\n",
    "g.bind(\"soma\", SOMA)\n",
    "g.bind(\"cut\", CUT)\n",
    "\n",
    "\n",
    "# the actual query comes here\n",
    "query = \"\"\"SELECT ?task WHERE {\n",
    "      SERVICE <https://api.krr.triply.cc/datasets/mkumpel/FruitCuttingKG/services/FoodCuttingKG/sparql> {\n",
    "       ?s %s ?o.\n",
    "       ?task rdfs:subClassOf ?s.\n",
    "       ?task rdfs:subClassOf ?no.\n",
    "       ?no owl:someValuesFrom %s.\n",
    "   FILTER (?task != cut:Julienning && ?task != soma:Dicing && ?task != cut:Quartering)} }\"\"\" % (cut,pose) # the input parameter for the query. For testing, you can remove % (tobject) here\n",
    "#and replace %s in the first line of the query with a variable like ?food to get all food and objects\n",
    "    \n",
    "if rotation == \"multiple\": #for simplicity we define all tasks that involve multiple turning movements as dicing tasks, since we need additional info to be more specific\n",
    "    task = \"http://www.ease-crc.org/ont/food_cutting#Dicing\"\n",
    "    print(task)\n",
    "else: \n",
    "    for row in g.query(query):\n",
    "        print(row.task)\n",
    "\n"
   ]
  },
  {
   "cell_type": "code",
   "execution_count": null,
   "id": "57a30999-3ae1-4a10-957b-24f77287ddba",
   "metadata": {},
   "outputs": [],
   "source": []
  }
 ],
 "metadata": {
  "kernelspec": {
   "display_name": "Python 3 (ipykernel)",
   "language": "python",
   "name": "python3"
  },
  "language_info": {
   "codemirror_mode": {
    "name": "ipython",
    "version": 3
   },
   "file_extension": ".py",
   "mimetype": "text/x-python",
   "name": "python",
   "nbconvert_exporter": "python",
   "pygments_lexer": "ipython3",
   "version": "3.11.6"
  }
 },
 "nbformat": 4,
 "nbformat_minor": 5
}
